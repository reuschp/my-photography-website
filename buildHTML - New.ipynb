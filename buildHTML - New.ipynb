{
 "cells": [
  {
   "cell_type": "markdown",
   "id": "7c40c7e8-e78f-4216-af4f-bb821d9dc968",
   "metadata": {
    "ExecuteTime": {
     "end_time": "2025-01-08T15:50:22.729950Z",
     "start_time": "2025-01-08T15:50:22.728224Z"
    }
   },
   "source": [
    "# Website Generator for Lightroom Exports\n",
    "\n",
    "This Jupyter Notebook automatically generates HTML gallery pages from Adobe Lightroom Web Exports. \n",
    "\n",
    "It ensures a consistent structure and visual style across multiple pages while giving you full editorial control over layout, navigation, quotes, and page content.\n",
    "\n",
    "## What It Does\n",
    "\n",
    "- Parses exported Lightroom HTML files to extract image metadata (file name, dimensions, title).\n",
    "- Organizes images into responsive Bootstrap rows:\n",
    "  - **Portrait** images are arranged in rows of 3.\n",
    "  - **Landscape** images are arranged in rows of 2.\n",
    "- Builds fully styled HTML pages using Bootstrap components like navbar, jumbotron, grid layout, and footer.\n",
    "- Includes a static `index.html` homepage with a manually defined welcome section and image.\n",
    "- Ensures all pages share a uniform layout and dynamic navbar.\n",
    "\n",
    "\n",
    "## Structure of This Notebook\n",
    "\n",
    "### 1. Page Configuration (`pages`)\n",
    "A list of dictionaries, each representing a page to generate. Each dictionary includes:\n",
    "- Lightroom export folder\n",
    "- Output HTML file name\n",
    "- Page title and intro text\n",
    "- Quote and author\n",
    "- Active navigation link (to highlight in the navbar)\n",
    "\n",
    "### 2. Shared Navbar Definition\n",
    "The `navbar_links` are automatically extracted from the `pages` list so every page has consistent navigation.\n",
    "\n",
    "### 3. HTML Generation Functions\n",
    "Reusable functions generate each section of the page:\n",
    "- `generate_header()`\n",
    "- `generate_navbar(nav_links, active_page)`\n",
    "- `generate_jumbotron(title, heading, paragraph)`\n",
    "- `generate_image_section(images, folder)`\n",
    "- `generate_quote_section(quote, author)`\n",
    "- `generate_footer()`\n",
    "\n",
    "### 4. `extract_images_from_lightroom()`\n",
    "Parses the `index.html` file from each Lightroom export to extract image metadata including width and height (used to determine orientation).\n",
    "\n",
    "### 5. `generate_full_html()`\n",
    "Assembles a complete HTML page using the modular functions and a `page` dictionary.\n",
    "\n",
    "### 6. `generate_index_html()`\n",
    "Generates the static homepage using fixed content, but still using the shared layout and navbar.\n",
    "\n",
    "### 7. `main()`\n",
    "Loops through all configured pages, extracts images, generates HTML, and writes each page to disk. Also builds the `index.html` using its own content and the same layout.\n",
    "\n",
    "---\n",
    "\n",
    "## How to Add a New Page\n",
    "\n",
    "Just add a new dictionary to the `pages` list, like this:\n",
    "\n",
    "```python\n",
    "{\n",
    "    \"lightroom_folder\": \"LR_Export_NewGallery\",\n",
    "    \"output_file\": \"new-gallery.html\",\n",
    "    \"page_title\": \"New Gallery\",\n",
    "    \"active_nav\": \"new-gallery.html\",\n",
    "    \"intro_heading\": \"A new perspective.\",\n",
    "    \"intro_paragraph\": \"Photos captured in a recent journey.\",\n",
    "    \"quote\": \"The camera is an instrument that teaches people how to see without a camera.\",\n",
    "    \"quote_author\": \"Dorothea Lange\"\n",
    "}"
   ]
  },
  {
   "cell_type": "markdown",
   "id": "db4a14a3fe3063c",
   "metadata": {},
   "source": [
    "# Important Instruction: Export the Track Gallery - the others do not put the Hight/Width info in the HTML"
   ]
  },
  {
   "cell_type": "code",
   "execution_count": null,
   "id": "8fd6f441206620e3",
   "metadata": {
    "ExecuteTime": {
     "end_time": "2025-01-08T15:50:22.735648Z",
     "start_time": "2025-01-08T15:50:22.734132Z"
    }
   },
   "outputs": [],
   "source": []
  },
  {
   "cell_type": "code",
   "execution_count": 121,
   "id": "392620b0b847adda",
   "metadata": {
    "ExecuteTime": {
     "end_time": "2025-01-08T15:50:22.742002Z",
     "start_time": "2025-01-08T15:50:22.740791Z"
    }
   },
   "outputs": [],
   "source": [
    "# Page-specific settings (set these per page)"
   ]
  },
  {
   "cell_type": "code",
   "execution_count": 122,
   "id": "8e7abb73-798a-4d14-afb4-57da8f056b27",
   "metadata": {},
   "outputs": [],
   "source": [
    "pages = [\n",
    "    {\n",
    "        \"lightroom_folder\": \"LR_Export_Moments\",\n",
    "        \"output_file\": \"moments.html\",\n",
    "        \"page_title\": \"Moments\",\n",
    "        \"active_nav\": \"moments.html\",\n",
    "        \"intro_heading\": \"\",\n",
    "        \"intro_paragraph\": \"Street photography is not about what we see, but about what reveals itself when we slow down.\",\n",
    "        \"quote\": \"To me, photography is an art of observation.<br>It’s about finding something interesting in an ordinary place.\",\n",
    "        \"quote_author\": \"Elliott Erwitt\"\n",
    "    },\n",
    "    {\n",
    "        \"lightroom_folder\": \"LR_Export_Portraits\",\n",
    "        \"output_file\": \"portraits.html\",\n",
    "        \"page_title\": \"Portraits\",\n",
    "        \"active_nav\": \"portraits.html\",\n",
    "        \"intro_heading\": \"\",\n",
    "        \"intro_paragraph\": \"Faces don’t ask to be explained.<br>They invite us into an unspoken conversation—a gaze that doesn’t give answers, but shifts something in the one who looks.\",\n",
    "        \"quote\": \"A portrait is not made in the camera but on either side of it.\",\n",
    "        \"quote_author\": \"Edward Steichen\"\n",
    "    }\n",
    "    # Add more pages here...\n",
    "]"
   ]
  },
  {
   "cell_type": "markdown",
   "id": "edd38e05-70b3-43a0-9113-bb4ee08ca5ca",
   "metadata": {},
   "source": [
    "Build the navigation based on the data structure above"
   ]
  },
  {
   "cell_type": "code",
   "execution_count": 124,
   "id": "f74cd2e374377f04",
   "metadata": {
    "ExecuteTime": {
     "end_time": "2025-01-08T15:50:22.765744Z",
     "start_time": "2025-01-08T15:50:22.764158Z"
    }
   },
   "outputs": [],
   "source": [
    "def generate_navbar(nav_links, active_page):\n",
    "    \"\"\"Generate the navbar using provided links and active page.\"\"\"\n",
    "    nav_items = []\n",
    "    for href, label in nav_links:\n",
    "        active_class = \" active\" if href == active_page else \"\"\n",
    "        sr_only = ' <span class=\"sr-only\">(current)</span>' if href == active_page else \"\"\n",
    "        nav_items.append(\n",
    "            f'<li class=\"nav-item{active_class}\"><a class=\"nav-link\" href=\"{href}\">{label}{sr_only}</a></li>'\n",
    "        )\n",
    "\n",
    "    return f\"\"\"\n",
    "    <nav class=\"navbar navbar-expand-lg navbar-dark bg-dark\">\n",
    "        <a class=\"navbar-brand\" href=\"#\">Pascal Reusch Photography</a>\n",
    "        <button class=\"navbar-toggler\" type=\"button\" data-toggle=\"collapse\" data-target=\"#navbarSupportedContent\"\n",
    "                aria-controls=\"navbarSupportedContent\" aria-expanded=\"false\" aria-label=\"Toggle navigation\">\n",
    "            <span class=\"navbar-toggler-icon\"></span>\n",
    "        </button>\n",
    "        <div class=\"collapse navbar-collapse\" id=\"navbarSupportedContent\">\n",
    "            <ul class=\"navbar-nav mr-auto\">\n",
    "                {''.join(nav_items)}\n",
    "            </ul>\n",
    "        </div>\n",
    "    </nav>\n",
    "    \"\"\""
   ]
  },
  {
   "cell_type": "markdown",
   "id": "1e89dd83-2caf-407d-be23-aaece3e739ff",
   "metadata": {},
   "source": [
    "Generates a header that is the same on every page."
   ]
  },
  {
   "cell_type": "code",
   "execution_count": 126,
   "id": "5ceb35647cbacc8",
   "metadata": {
    "ExecuteTime": {
     "end_time": "2025-01-08T15:50:22.760336Z",
     "start_time": "2025-01-08T15:50:22.758848Z"
    }
   },
   "outputs": [],
   "source": [
    "def generate_header():\n",
    "    return \"\"\"\n",
    "    <!DOCTYPE html>\n",
    "    <html lang=\"en\">\n",
    "    <head>\n",
    "        <meta charset=\"UTF-8\">\n",
    "        <meta http-equiv=\"X-UA-Compatible\" content=\"IE=edge\">\n",
    "        <meta name=\"viewport\" content=\"width=device-width, initial-scale=1\">\n",
    "        <title>Pascal Reusch Photography</title>\n",
    "        <link href=\"css/bootstrap-4.4.1.css\" rel=\"stylesheet\">\n",
    "        <link href=\"css/lightbox.min.css\" rel=\"stylesheet\">\n",
    "    </head>\n",
    "    <body>\n",
    "    \"\"\""
   ]
  },
  {
   "cell_type": "markdown",
   "id": "a2a74653-2b11-44e5-a8d4-c0c0a95d8c8a",
   "metadata": {},
   "source": [
    "The generate_index_html() function uses static content and a dynamic navbar."
   ]
  },
  {
   "cell_type": "code",
   "execution_count": 128,
   "id": "239a3538-f02f-4b73-a1a6-111c9dbb8489",
   "metadata": {},
   "outputs": [],
   "source": [
    "def generate_index_html(navbar_links):\n",
    "    return (\n",
    "        generate_header()\n",
    "        + generate_navbar(navbar_links, active_page=\"index.html\")\n",
    "        + \"\"\"\n",
    "        <section>\n",
    "          <div class=\"jumbotron text-center mt-2 py-2\">\n",
    "            <div class=\"container\">\n",
    "              <div class=\"row\">\n",
    "                <div class=\"col-12\">\n",
    "                  <h1>Pascal Reusch</h1>\n",
    "                  <h5>Learn to see the beauty in all things!</h5>\n",
    "                </div>\n",
    "              </div>\n",
    "            </div>\n",
    "          </div>\n",
    "        </section>\n",
    "        <section>\n",
    "          <div class=\"container\">\n",
    "            <div class=\"row\">\n",
    "              <div class=\"col-md-12 col-12 text-center col-xl-12\">\n",
    "                <img class=\"img-fluid\" src=\"images/DSC05209.jpg\" alt=\"\">\n",
    "                <h5>Glacier National Parc (Montana, USA)</h5>\n",
    "              </div>\n",
    "            </div>\n",
    "          </div>\n",
    "        </section>\n",
    "        <hr>\n",
    "        <section>\n",
    "          <div class=\"container text-center\">\n",
    "            <h5>To connect and exchange art and ideas send an email:</h5>\n",
    "            <h5><a href=\"mailto:reuschphotography@gmail.com\">reuschphotography@gmail.com</a></h5>\n",
    "          </div>\n",
    "        </section>\n",
    "        <hr>\n",
    "        \"\"\"\n",
    "        + generate_footer()\n",
    "    )"
   ]
  },
  {
   "cell_type": "code",
   "execution_count": 129,
   "id": "fe09adc831240e99",
   "metadata": {
    "ExecuteTime": {
     "end_time": "2025-01-08T15:50:22.754514Z",
     "start_time": "2025-01-08T15:50:22.751572Z"
    }
   },
   "outputs": [],
   "source": [
    "import re\n",
    "\n",
    "def extract_images_from_lightroom(file_path):\n",
    "    \"\"\"Extract image data from Lightroom HTML.\"\"\"\n",
    "    with open(file_path, \"r\", encoding=\"utf-8\") as file:\n",
    "        content = file.read()\n",
    "\n",
    "    # Locate the LR.images block\n",
    "    start_index = content.find(\"LR.images = [\")\n",
    "    if start_index == -1:\n",
    "        raise ValueError(\"Could not find 'LR.images = [' in the file.\")\n",
    "\n",
    "    start_index += len(\"LR.images = [\")  # Move past 'LR.images = ['\n",
    "    end_index = content.find(\"]\", start_index)\n",
    "    if end_index == -1:\n",
    "        raise ValueError(\"Could not find the closing ']' for LR.images.\")\n",
    "\n",
    "    # Extract the block as raw text\n",
    "    raw_data = content[start_index:end_index + 1]\n",
    "\n",
    "    # Split the raw data into lines or individual objects\n",
    "    raw_items = re.split(r\"},\\s*{\", raw_data.strip()[1:-1])  # Split by objects\n",
    "    images = []\n",
    "\n",
    "    for item in raw_items:\n",
    "        # Ensure each item is properly wrapped with braces\n",
    "        item = \"{\" + item.strip() + \"}\"\n",
    "        item = item.replace(\"&quot;\", '\"')  # Replace HTML entities with quotes\n",
    "\n",
    "        # Extract key-value pairs manually\n",
    "        fields = re.findall(r'\"(\\w+)\":\\s*\"([^\"]*?)\"', item)\n",
    "        image_data = {}\n",
    "\n",
    "        for key, value in fields:\n",
    "            # Parse numeric fields as integers, leave others as strings\n",
    "            if key in {\"largeWidth\", \"largeHeight\"}:\n",
    "                try:\n",
    "                    image_data[key] = int(value)\n",
    "                except ValueError:\n",
    "                    image_data[key] = 0  # Fallback for invalid integers\n",
    "            else:\n",
    "                image_data[key] = value.strip()\n",
    "\n",
    "        # Ensure required keys exist\n",
    "        if \"largeWidth\" in image_data and \"largeHeight\" in image_data:\n",
    "            images.append(image_data)\n",
    "        else:\n",
    "            print(f\"Skipping image due to missing dimensions: {item}\")\n",
    "\n",
    "    return images"
   ]
  },
  {
   "cell_type": "code",
   "execution_count": 130,
   "id": "620e4991e684b69b",
   "metadata": {
    "ExecuteTime": {
     "end_time": "2025-01-08T15:50:22.773854Z",
     "start_time": "2025-01-08T15:50:22.769872Z"
    }
   },
   "outputs": [],
   "source": [
    "def generate_jumbotron(title, heading, paragraph):\n",
    "    return f\"\"\"\n",
    "    <section>\n",
    "        <div class=\"jumbotron text-center mt-2 py-2\">\n",
    "            <div class=\"container\">\n",
    "                <div class=\"row\">\n",
    "                    <div class=\"col-12\">\n",
    "                        <h1>{title}</h1>\n",
    "                        <h4>{heading}</h4>\n",
    "                        <p>{paragraph}</p>\n",
    "                    </div>\n",
    "                </div>\n",
    "            </div>\n",
    "        </div>\n",
    "    </section>\n",
    "    \"\"\"\n",
    "\n",
    "\n",
    "def generate_image_section(images, lightroom_folder):\n",
    "    \"\"\"Generate the image gallery section.\"\"\"\n",
    "    html_content = '<section><div class=\"container\">'\n",
    "    portrait_row = []\n",
    "    landscape_row = []\n",
    "\n",
    "    for image in images:\n",
    "        # Determine orientation of the image\n",
    "        orientation = \"portrait\" if int(image[\"largeHeight\"]) > int(image[\"largeWidth\"]) else \"landscape\"\n",
    "\n",
    "        # Create the basic image item without column definitions\n",
    "        html_item = f\"\"\"\n",
    "            <a href=\"{lightroom_folder}/images/large/{image['exportFilename']}.jpg\" data-lightbox=\"gallery\" data-title=\"{image['title']}\">\n",
    "                <img class=\"img-fluid\" src=\"{lightroom_folder}/images/large/{image['exportFilename']}.jpg\" alt=\"{image['title']}\">\n",
    "            </a>\n",
    "            <h5>{image['title']}</h5>\n",
    "        \"\"\"\n",
    "\n",
    "        if orientation == \"portrait\":\n",
    "            portrait_row.append(html_item)\n",
    "            if len(portrait_row) == 3:  # Once 3 portraits are collected, add the row\n",
    "                html_content += '<div class=\"row mt-3\">' + ''.join(\n",
    "                    f'<div class=\"col-md-4 col-12 text-center\">{img}</div>' for img in portrait_row\n",
    "                ) + '</div>'\n",
    "                portrait_row = []\n",
    "        else:  # Landscape\n",
    "            landscape_row.append(html_item)\n",
    "            if len(landscape_row) == 2:  # Once 2 landscapes are collected, add the row\n",
    "                html_content += '<div class=\"row mt-3\">' + ''.join(\n",
    "                    f'<div class=\"col-md-6 col-12 text-center\">{img}</div>' for img in landscape_row\n",
    "                ) + '</div>'\n",
    "                landscape_row = []\n",
    "\n",
    "    # Handle any remaining images\n",
    "    if portrait_row:\n",
    "        col_size = 12 // len(portrait_row)  # Dynamically adjust column size\n",
    "        html_content += '<div class=\"row mt-3\">' + ''.join(\n",
    "            f'<div class=\"col-md-{col_size} col-12 text-center\">{img}</div>' for img in portrait_row\n",
    "        ) + '</div>'\n",
    "\n",
    "    if landscape_row:\n",
    "        col_size = 12 // len(landscape_row)  # Dynamically adjust column size\n",
    "        html_content += '<div class=\"row mt-3\">' + ''.join(\n",
    "            f'<div class=\"col-md-{col_size} col-12 text-center\">{img}</div>' for img in landscape_row\n",
    "        ) + '</div>'\n",
    "\n",
    "    html_content += '</div></section>'\n",
    "    return html_content\n",
    "\n",
    "def generate_quote(text, author):\n",
    "    return f\"\"\"\n",
    "    <section>\n",
    "      <hr>\n",
    "      <div class=\"container\">\n",
    "        <div class=\"row\">\n",
    "          <div class=\"col-12 text-center\">\n",
    "            <h4>{text}</h4>\n",
    "            <h4>{author}</h4>\n",
    "          </div>\n",
    "        </div>\n",
    "      </div>\n",
    "    </section>\n",
    "    \"\"\"\n",
    "\n",
    "def generate_footer():\n",
    "    \"\"\"Generate the footer.\"\"\"\n",
    "    return \"\"\"\n",
    "    <footer class=\"text-center\">\n",
    "        <div class=\"container\">\n",
    "            <div class=\"row\">\n",
    "                <div class=\"col-12\">\n",
    "                    <p>Copyright © Pascal Reusch Photography. All rights reserved.</p>\n",
    "                </div>\n",
    "            </div>\n",
    "        </div>\n",
    "    </footer>\n",
    "    <!-- Include Bootstrap JavaScript -->\n",
    "    <script src=\"https://code.jquery.com/jquery-3.6.0.min.js\"></script>\n",
    "    <script src=\"js/popper.min.js\"></script>\n",
    "    <script src=\"js/bootstrap-4.4.1.js\"></script>\n",
    "    <script src=\"js/lightbox.min.js\"></script>\n",
    "    </body>\n",
    "    </html>\n",
    "    \"\"\"\n",
    "\n",
    "\n",
    "def generate_full_html(images, page, navbar_links):\n",
    "    return (\n",
    "        generate_header()\n",
    "        + generate_navbar(navbar_links, page[\"active_nav\"])\n",
    "        + generate_jumbotron(page[\"page_title\"], page[\"intro_heading\"], page[\"intro_paragraph\"])\n",
    "        + generate_image_section(images, page[\"lightroom_folder\"])\n",
    "        + generate_quote(page[\"quote\"], page[\"quote_author\"])\n",
    "        + generate_footer()\n",
    "    )"
   ]
  },
  {
   "cell_type": "code",
   "execution_count": null,
   "id": "5e65277224314654",
   "metadata": {
    "ExecuteTime": {
     "end_time": "2025-01-08T15:50:22.780296Z",
     "start_time": "2025-01-08T15:50:22.779075Z"
    }
   },
   "outputs": [],
   "source": []
  },
  {
   "cell_type": "code",
   "execution_count": 131,
   "id": "ca160b790ea9d4f4",
   "metadata": {
    "ExecuteTime": {
     "end_time": "2025-01-08T15:50:22.788359Z",
     "start_time": "2025-01-08T15:50:22.784931Z"
    }
   },
   "outputs": [
    {
     "name": "stdout",
     "output_type": "stream",
     "text": [
      "✓ index.html created\n",
      "✓ moments.html created\n",
      "✓ portraits.html created\n"
     ]
    }
   ],
   "source": [
    "def main():\n",
    "    navbar_links = [(\"index.html\", \"Home\")] + [(page[\"output_file\"], page[\"page_title\"]) for page in pages]\n",
    "\n",
    "    # Generate static index page\n",
    "    with open(\"index.html\", \"w\", encoding=\"utf-8\") as f:\n",
    "        f.write(generate_index_html(navbar_links))\n",
    "    print(\"✓ index.html created\")\n",
    "\n",
    "    # Generate Lightroom-based gallery pages\n",
    "    for page in pages:\n",
    "        input_html = f\"{page['lightroom_folder']}/index.html\"\n",
    "        images = extract_images_from_lightroom(input_html)\n",
    "        html = generate_full_html(images, page, navbar_links)\n",
    "        with open(page[\"output_file\"], \"w\", encoding=\"utf-8\") as f:\n",
    "            f.write(html)\n",
    "        print(f\"✓ {page['output_file']} created\")\n",
    "\n",
    "if __name__ == \"__main__\":\n",
    "    main()"
   ]
  },
  {
   "cell_type": "code",
   "execution_count": null,
   "id": "f47c9bdc3e569be3",
   "metadata": {
    "ExecuteTime": {
     "end_time": "2025-01-08T15:50:22.794509Z",
     "start_time": "2025-01-08T15:50:22.793242Z"
    }
   },
   "outputs": [],
   "source": []
  },
  {
   "cell_type": "code",
   "execution_count": null,
   "id": "2f1e3e53f2194abd",
   "metadata": {
    "ExecuteTime": {
     "end_time": "2025-01-08T15:50:22.799737Z",
     "start_time": "2025-01-08T15:50:22.798698Z"
    }
   },
   "outputs": [],
   "source": []
  },
  {
   "cell_type": "code",
   "execution_count": null,
   "id": "28c6aae113c2bdb4",
   "metadata": {
    "ExecuteTime": {
     "end_time": "2025-01-08T15:50:22.805110Z",
     "start_time": "2025-01-08T15:50:22.803933Z"
    }
   },
   "outputs": [],
   "source": []
  },
  {
   "cell_type": "code",
   "execution_count": null,
   "id": "3d4c9828480efcd3",
   "metadata": {
    "ExecuteTime": {
     "end_time": "2025-01-08T15:50:22.810617Z",
     "start_time": "2025-01-08T15:50:22.809444Z"
    }
   },
   "outputs": [],
   "source": []
  },
  {
   "cell_type": "code",
   "execution_count": null,
   "id": "d0e05d61f0789e5b",
   "metadata": {
    "ExecuteTime": {
     "end_time": "2025-01-08T15:50:22.816237Z",
     "start_time": "2025-01-08T15:50:22.815066Z"
    }
   },
   "outputs": [],
   "source": []
  }
 ],
 "metadata": {
  "kernelspec": {
   "display_name": "Python 3 (ipykernel)",
   "language": "python",
   "name": "python3"
  },
  "language_info": {
   "codemirror_mode": {
    "name": "ipython",
    "version": 3
   },
   "file_extension": ".py",
   "mimetype": "text/x-python",
   "name": "python",
   "nbconvert_exporter": "python",
   "pygments_lexer": "ipython3",
   "version": "3.12.2"
  }
 },
 "nbformat": 4,
 "nbformat_minor": 5
}
