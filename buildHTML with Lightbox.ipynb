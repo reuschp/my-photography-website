{
 "cells": [
  {
   "metadata": {
    "ExecuteTime": {
     "end_time": "2025-01-08T20:58:41.174209Z",
     "start_time": "2025-01-08T20:58:41.172552Z"
    }
   },
   "cell_type": "code",
   "source": "",
   "id": "900fc68d38eef5f0",
   "outputs": [],
   "execution_count": null
  },
  {
   "metadata": {
    "ExecuteTime": {
     "end_time": "2025-01-08T20:58:41.184163Z",
     "start_time": "2025-01-08T20:58:41.182494Z"
    }
   },
   "cell_type": "code",
   "source": "",
   "id": "8fd6f441206620e3",
   "outputs": [],
   "execution_count": null
  },
  {
   "metadata": {
    "ExecuteTime": {
     "end_time": "2025-01-08T20:58:41.190792Z",
     "start_time": "2025-01-08T20:58:41.189532Z"
    }
   },
   "cell_type": "code",
   "source": "",
   "id": "392620b0b847adda",
   "outputs": [],
   "execution_count": null
  },
  {
   "metadata": {
    "ExecuteTime": {
     "end_time": "2025-01-08T20:58:41.196478Z",
     "start_time": "2025-01-08T20:58:41.195213Z"
    }
   },
   "cell_type": "code",
   "source": "",
   "id": "59c230b2e58cde7b",
   "outputs": [],
   "execution_count": null
  },
  {
   "metadata": {},
   "cell_type": "markdown",
   "source": "# Export the Track Gallery - the others do not put the Hight/Width info in the HTML",
   "id": "db4a14a3fe3063c"
  },
  {
   "metadata": {
    "ExecuteTime": {
     "end_time": "2025-01-08T20:58:41.204298Z",
     "start_time": "2025-01-08T20:58:41.200953Z"
    }
   },
   "cell_type": "code",
   "source": [
    "import re\n",
    "\n",
    "def extract_images_from_lightroom(file_path):\n",
    "    \"\"\"Extract image data from Lightroom HTML.\"\"\"\n",
    "    with open(file_path, \"r\", encoding=\"utf-8\") as file:\n",
    "        content = file.read()\n",
    "\n",
    "    # Locate the LR.images block\n",
    "    start_index = content.find(\"LR.images = [\")\n",
    "    if start_index == -1:\n",
    "        raise ValueError(\"Could not find 'LR.images = [' in the file.\")\n",
    "\n",
    "    start_index += len(\"LR.images = [\")  # Move past 'LR.images = ['\n",
    "    end_index = content.find(\"]\", start_index)\n",
    "    if end_index == -1:\n",
    "        raise ValueError(\"Could not find the closing ']' for LR.images.\")\n",
    "\n",
    "    # Extract the block as raw text\n",
    "    raw_data = content[start_index:end_index + 1]\n",
    "\n",
    "    # Split the raw data into lines or individual objects\n",
    "    raw_items = re.split(r\"},\\s*{\", raw_data.strip()[1:-1])  # Split by objects\n",
    "    images = []\n",
    "\n",
    "    for item in raw_items:\n",
    "        # Ensure each item is properly wrapped with braces\n",
    "        item = \"{\" + item.strip() + \"}\"\n",
    "        item = item.replace(\"&quot;\", '\"')  # Replace HTML entities with quotes\n",
    "\n",
    "        # Extract key-value pairs manually\n",
    "        fields = re.findall(r'\"(\\w+)\":\\s*\"([^\"]*?)\"', item)\n",
    "        image_data = {}\n",
    "\n",
    "        for key, value in fields:\n",
    "            # Parse numeric fields as integers, leave others as strings\n",
    "            if key in {\"largeWidth\", \"largeHeight\"}:\n",
    "                try:\n",
    "                    image_data[key] = int(value)\n",
    "                except ValueError:\n",
    "                    image_data[key] = 0  # Fallback for invalid integers\n",
    "            else:\n",
    "                image_data[key] = value.strip()\n",
    "\n",
    "        # Ensure required keys exist\n",
    "        if \"largeWidth\" in image_data and \"largeHeight\" in image_data:\n",
    "            images.append(image_data)\n",
    "        else:\n",
    "            print(f\"Skipping image due to missing dimensions: {item}\")\n",
    "\n",
    "    return images"
   ],
   "id": "fe09adc831240e99",
   "outputs": [],
   "execution_count": 8
  },
  {
   "metadata": {
    "ExecuteTime": {
     "end_time": "2025-01-08T20:58:41.210047Z",
     "start_time": "2025-01-08T20:58:41.208375Z"
    }
   },
   "cell_type": "code",
   "source": [
    "def generate_header():\n",
    "    \"\"\"Generate the HTML header.\"\"\"\n",
    "    return \"\"\"\n",
    "    <!DOCTYPE html>\n",
    "    <html lang=\"en\">\n",
    "    <head>\n",
    "        <meta charset=\"UTF-8\">\n",
    "        <meta http-equiv=\"X-UA-Compatible\" content=\"IE=edge\">\n",
    "        <meta name=\"viewport\" content=\"width=device-width, initial-scale=1\">\n",
    "        <title>Pascal Reusch Photography</title>\n",
    "        <!-- Include Bootstrap -->\n",
    "        <link href=\"css/bootstrap-4.4.1.css\" rel=\"stylesheet\">\n",
    "        <link href=\"css/lightbox.min.css\" rel=\"stylesheet\">\n",
    "    </head>\n",
    "    <body>\n",
    "    \"\"\"\n"
   ],
   "id": "5ceb35647cbacc8",
   "outputs": [],
   "execution_count": 9
  },
  {
   "metadata": {
    "ExecuteTime": {
     "end_time": "2025-01-08T20:58:41.215893Z",
     "start_time": "2025-01-08T20:58:41.214219Z"
    }
   },
   "cell_type": "code",
   "source": [
    "def generate_navbar():\n",
    "    \"\"\"Generate the complete navbar.\"\"\"\n",
    "    return \"\"\"\n",
    "    <nav class=\"navbar navbar-expand-lg navbar-dark bg-dark\">\n",
    "        <a class=\"navbar-brand\" href=\"#\"></a>\n",
    "        <button class=\"navbar-toggler\" type=\"button\" data-toggle=\"collapse\" data-target=\"#navbarSupportedContent\" aria-controls=\"navbarSupportedContent\" aria-expanded=\"false\" aria-label=\"Toggle navigation\">\n",
    "            <span class=\"navbar-toggler-icon\"></span>\n",
    "        </button>\n",
    "        <div class=\"collapse navbar-collapse\" id=\"navbarSupportedContent\">\n",
    "            <ul class=\"navbar-nav mr-auto\">\n",
    "                <li class=\"nav-item\">\n",
    "                    <a class=\"nav-link\" href=\"index.html\">Home</a>\n",
    "                </li>\n",
    "                <li class=\"nav-item\">\n",
    "                    <a class=\"nav-link\" href=\"portraits-manual.html\">Portraits</a>\n",
    "                </li>\n",
    "                <li class=\"nav-item active\">\n",
    "                    <a class=\"nav-link\" href=\"street.html\">Street<span class=\"sr-only\">(current)</span></a>\n",
    "                </li>\n",
    "            </ul>\n",
    "        </div>\n",
    "    </nav>\n",
    "    \"\"\"\n"
   ],
   "id": "f74cd2e374377f04",
   "outputs": [],
   "execution_count": 10
  },
  {
   "metadata": {
    "ExecuteTime": {
     "end_time": "2025-01-08T20:58:41.227011Z",
     "start_time": "2025-01-08T20:58:41.222792Z"
    }
   },
   "cell_type": "code",
   "source": [
    "def generate_jumbotron():\n",
    "    \"\"\"Generate the jumbotron section.\"\"\"\n",
    "    return \"\"\"\n",
    "    <section>\n",
    "        <div class=\"jumbotron text-center mt-2 py-2\">\n",
    "            <div class=\"container\">\n",
    "                <div class=\"row\">\n",
    "                    <div class=\"col-12\">\n",
    "                        <h1>Street Photography</h1>\n",
    "                    </div>\n",
    "                </div>\n",
    "            </div>\n",
    "        </div>\n",
    "    </section>\n",
    "    \"\"\"\n",
    "\n",
    "\n",
    "def generate_image_section(images, lightroom_folder):\n",
    "    \"\"\"Generate the image gallery section.\"\"\"\n",
    "    html_content = '<section><div class=\"container\">'\n",
    "    portrait_row = []\n",
    "    landscape_row = []\n",
    "\n",
    "    for image in images:\n",
    "\n",
    "        print(\"image looks like this:\")\n",
    "        print(image)\n",
    "        # Determine orientation of the image\n",
    "        orientation = \"portrait\" if int(image[\"largeHeight\"]) > int(image[\"largeWidth\"]) else \"landscape\"\n",
    "\n",
    "        # Create the basic image item without column definitions\n",
    "        html_item = f\"\"\"\n",
    "            <a href=\"{lightroom_folder}/images/large/{image['exportFilename']}.jpg\" data-lightbox=\"street-gallery\" data-title=\"{image['title']}\">\n",
    "            <img class=\"img-fluid\" src=\"{lightroom_folder}/images/large/{image['exportFilename']}.jpg\" alt=\"{image['title']}\"> </a>\n",
    "            <h5>{image['title']}</h5>\n",
    "        \"\"\"\n",
    "\n",
    "        if orientation == \"portrait\":\n",
    "            portrait_row.append(html_item)\n",
    "            if len(portrait_row) == 3:  # Once 3 portraits are collected, add the row\n",
    "                html_content += '<div class=\"row mt-3\">' + ''.join(\n",
    "                    f'<div class=\"col-md-4 col-12 text-center\">{img}</div>' for img in portrait_row\n",
    "                ) + '</div>'\n",
    "                portrait_row = []\n",
    "        else:  # Landscape\n",
    "            landscape_row.append(html_item)\n",
    "            if len(landscape_row) == 2:  # Once 2 landscapes are collected, add the row\n",
    "                html_content += '<div class=\"row mt-3\">' + ''.join(\n",
    "                    f'<div class=\"col-md-6 col-12 text-center\">{img}</div>' for img in landscape_row\n",
    "                ) + '</div>'\n",
    "                landscape_row = []\n",
    "\n",
    "    # Handle any remaining images\n",
    "    if portrait_row:\n",
    "        col_size = 12 // len(portrait_row)  # Dynamically adjust column size\n",
    "        html_content += '<div class=\"row mt-3\">' + ''.join(\n",
    "            f'<div class=\"col-md-{col_size} col-12 text-center\">{img}</div>' for img in portrait_row\n",
    "        ) + '</div>'\n",
    "\n",
    "    if landscape_row:\n",
    "        col_size = 12 // len(landscape_row)  # Dynamically adjust column size\n",
    "        html_content += '<div class=\"row mt-3\">' + ''.join(\n",
    "            f'<div class=\"col-md-{col_size} col-12 text-center\">{img}</div>' for img in landscape_row\n",
    "        ) + '</div>'\n",
    "\n",
    "    html_content += '</div></section>'\n",
    "    return html_content\n",
    "\n",
    "def generate_quote():\n",
    "    \"\"\"Generate the footer.\"\"\"\n",
    "    return \"\"\"\n",
    "    <hr>\n",
    "    <section>\n",
    "      <div class=\"container\">\n",
    "        <div class=\"row\">\n",
    "          <div class=\"col-12 text-center\">\n",
    "            <h4>“To me, photography is an art of observation. It’s about finding something interesting in an ordinary place…I’ve found it has little to do with the things you see and everything to do with the way you see them.”</h4>\n",
    "\t\t\t  <h4>Elliott Erwitt</h4>\n",
    "          </div>\n",
    "        </div>\n",
    "      </div>\n",
    "    </section>\n",
    "    \"\"\"\n",
    "\n",
    "def generate_footer():\n",
    "    \"\"\"Generate the footer.\"\"\"\n",
    "    return \"\"\"\n",
    "    <footer class=\"text-center\">\n",
    "        <div class=\"container\">\n",
    "            <div class=\"row\">\n",
    "                <div class=\"col-12\">\n",
    "                    <p>Copyright © Pascal Reusch Photography. All rights reserved.</p>\n",
    "                </div>\n",
    "            </div>\n",
    "        </div>\n",
    "    </footer>\n",
    "    <!-- Include Bootstrap JavaScript -->\n",
    "    <script src=\"https://code.jquery.com/jquery-3.6.0.min.js\"></script>\n",
    "    <script src=\"js/popper.min.js\"></script>\n",
    "    <script src=\"js/bootstrap-4.4.1.js\"></script>\n",
    "    <script src=\"js/lightbox.min.js\"></script>\n",
    "    </body>\n",
    "    </html>\n",
    "    \"\"\"\n",
    "\n",
    "\n",
    "def generate_full_html(images, lightroom_folder):\n",
    "    \"\"\"Combine all sections to create the full HTML.\"\"\"\n",
    "    return (\n",
    "        generate_header()\n",
    "        + generate_navbar()\n",
    "        + generate_jumbotron()\n",
    "        + generate_image_section(images, lightroom_folder)\n",
    "        + generate_quote()\n",
    "        + generate_footer()\n",
    "    )"
   ],
   "id": "620e4991e684b69b",
   "outputs": [],
   "execution_count": 11
  },
  {
   "metadata": {
    "ExecuteTime": {
     "end_time": "2025-01-08T20:58:41.232802Z",
     "start_time": "2025-01-08T20:58:41.231353Z"
    }
   },
   "cell_type": "code",
   "source": "",
   "id": "5e65277224314654",
   "outputs": [],
   "execution_count": null
  },
  {
   "metadata": {
    "ExecuteTime": {
     "end_time": "2025-01-08T20:58:41.243520Z",
     "start_time": "2025-01-08T20:58:41.240021Z"
    }
   },
   "cell_type": "code",
   "source": [
    "\n",
    "def main():\n",
    "    # File paths\n",
    "    lightroom_folder = \"LR_Export_Street\"\n",
    "    lightroom_file = lightroom_folder+\"/index.html\"\n",
    "    output_html_file = \"street.html\"\n",
    "\n",
    "    # Extract images from the Lightroom export file\n",
    "    images = extract_images_from_lightroom(lightroom_file)\n",
    "\n",
    "    # Debug: Print all parsed images\n",
    "    print(\"Parsed Images:\")\n",
    "    for img in images:\n",
    "        print(img)\n",
    "\n",
    "    # Generate HTML content\n",
    "    html_content = generate_full_html(images, lightroom_folder)\n",
    "\n",
    "    # Write to the output HTML file\n",
    "    with open(output_html_file, \"w\", encoding=\"utf-8\") as file:\n",
    "        file.write(html_content)\n",
    "\n",
    "    print(f\"HTML page generated: {output_html_file}\")\n",
    "\n",
    "if __name__ == \"__main__\":\n",
    "    main()"
   ],
   "id": "ca160b790ea9d4f4",
   "outputs": [
    {
     "name": "stdout",
     "output_type": "stream",
     "text": [
      "Parsed Images:\n",
      "{'id': '18272451', 'largeWidth': 800, 'largeHeight': 1200, 'exportFilename': 'DSC03031', 'title': 'Coffee break (London, UK)'}\n",
      "{'id': '18541469', 'largeWidth': 1200, 'largeHeight': 800, 'exportFilename': 'DSC04165', 'title': 'Cruising through destruction (Egypt)'}\n",
      "{'id': '18561870', 'largeWidth': 800, 'largeHeight': 1200, 'exportFilename': 'IMG_0403', 'title': 'Lock em up (Egypt)'}\n",
      "{'id': '18541708', 'largeWidth': 1200, 'largeHeight': 800, 'exportFilename': 'DSC04404', 'title': 'Open door policy (Egypt)'}\n",
      "{'id': '18603767', 'largeWidth': 800, 'largeHeight': 1200, 'exportFilename': 'IMG_0936-2', 'title': 'Coffee (Egypt)'}\n",
      "{'id': '18787653', 'largeWidth': 1200, 'largeHeight': 800, 'exportFilename': 'DSC05868', 'title': 'Walking the highway (Egypt)'}\n",
      "{'id': '20869300', 'largeWidth': 1200, 'largeHeight': 800, 'exportFilename': 'DSC06845', 'title': 'A lonely guy at a diner (Palo Alto, CA)'}\n",
      "{'id': '21160647', 'largeWidth': 1200, 'largeHeight': 800, 'exportFilename': 'DSC09218', 'title': 'Different angles (San Francisco, CA)'}\n",
      "{'id': '21160932', 'largeWidth': 1200, 'largeHeight': 800, 'exportFilename': 'DSC09503', 'title': 'Big and bigger (San Francisco, CA)'}\n",
      "{'id': '21192161', 'largeWidth': 800, 'largeHeight': 1200, 'exportFilename': 'DSC09987', 'title': ''}\n",
      "{'id': '21192228', 'largeWidth': 800, 'largeHeight': 1200, 'exportFilename': 'DSC00055', 'title': 'Catch and call (Florida Keys)'}\n",
      "{'id': '21192267', 'largeWidth': 1200, 'largeHeight': 801, 'exportFilename': 'DSC00094', 'title': 'Burning bridges (Florida Keys)'}\n",
      "{'id': '21192318', 'largeWidth': 800, 'largeHeight': 1200, 'exportFilename': 'DSC00145', 'title': 'The afterparty  (Florida Keys)'}\n",
      "{'id': '21192419', 'largeWidth': 800, 'largeHeight': 1200, 'exportFilename': 'DSC00246', 'title': 'Waiting (Marco Island, FL)'}\n",
      "{'id': '21466909', 'largeWidth': 1200, 'largeHeight': 800, 'exportFilename': 'DSC05142', 'title': 'Potatoes (Crete, GR)'}\n",
      "{'id': '21466949', 'largeWidth': 800, 'largeHeight': 1200, 'exportFilename': 'DSC05182', 'title': '(Crete, GR)'}\n",
      "{'id': '21467327', 'largeWidth': 1200, 'largeHeight': 800, 'exportFilename': 'DSC05567', 'title': 'Nature parking (Crete, GR)'}\n",
      "{'id': '23094041', 'largeWidth': 1200, 'largeHeight': 800, 'exportFilename': 'DSC01004', 'title': 'Resist and bite (Marco Island, FL)'}\n",
      "{'id': '23152107', 'largeWidth': 800, 'largeHeight': 1200, 'exportFilename': 'DSC08975', 'title': 'Conversations'}\n",
      "{'id': '23152316', 'largeWidth': 800, 'largeHeight': 1200, 'exportFilename': 'DSC09184', 'title': 'The surf (Naples, FL)'}\n",
      "{'id': '23152391', 'largeWidth': 800, 'largeHeight': 1200, 'exportFilename': 'DSC09259', 'title': 'Naples pier (Naples, FL)'}\n",
      "{'id': '23224134', 'largeWidth': 1200, 'largeHeight': 800, 'exportFilename': 'DSC02400', 'title': 'After the storm (Marco Island, FL)'}\n",
      "{'id': '23230291', 'largeWidth': 1200, 'largeHeight': 800, 'exportFilename': 'DSC02476', 'title': 'Want to fly (Marco Island, FL)'}\n",
      "{'id': '23234088', 'largeWidth': 1200, 'largeHeight': 800, 'exportFilename': 'DSC09854', 'title': 'Grace (Napels, FL)'}\n",
      "{'id': '23272821', 'largeWidth': 1200, 'largeHeight': 874, 'exportFilename': 'IMG_E5700', 'title': 'Takeoff (Marco Island, FL)'}\n",
      "{'id': '23540400', 'largeWidth': 800, 'largeHeight': 1200, 'exportFilename': 'DSC00680', 'title': 'Hanging in Amsterdam'}\n",
      "{'id': '23550461', 'largeWidth': 800, 'largeHeight': 1200, 'exportFilename': 'DSC00848', 'title': 'Rushing home (Amsterdam, NL)'}\n",
      "{'id': '23550489', 'largeWidth': 800, 'largeHeight': 1200, 'exportFilename': 'DSC00876', 'title': 'A throne without a party (Amsterdam, NL)'}\n",
      "{'id': '24007682', 'largeWidth': 800, 'largeHeight': 1200, 'exportFilename': 'DSC01208', 'title': ''}\n",
      "{'id': '25055061', 'largeWidth': 800, 'largeHeight': 1200, 'exportFilename': 'DSC01640', 'title': 'Zeche Zollverein (Duisburg, Germany)'}\n",
      "{'id': '26943833', 'largeWidth': 800, 'largeHeight': 1200, 'exportFilename': 'DSC04170', 'title': 'Do not tell anyone (Düsseldorf, D)'}\n",
      "{'id': '28965693', 'largeWidth': 900, 'largeHeight': 1200, 'exportFilename': 'IMG_1815', 'title': 'A Chinese lady rushing through the rain, Lingshui, CN'}\n",
      "{'id': '28838825', 'largeWidth': 799, 'largeHeight': 1200, 'exportFilename': 'DSC09015', 'title': 'Going to build something, Lingshui, CN'}\n",
      "{'id': '29996089', 'largeWidth': 1200, 'largeHeight': 800, 'exportFilename': 'DSC09992', 'title': ''}\n",
      "{'id': '29996145', 'largeWidth': 800, 'largeHeight': 1200, 'exportFilename': 'DSC00056', 'title': 'Blurry reflections'}\n",
      "{'id': '31049844', 'largeWidth': 1200, 'largeHeight': 800, 'exportFilename': 'DSC00202', 'title': 'The traveler, Essen Hbf, D'}\n",
      "{'id': '31413984', 'largeWidth': 800, 'largeHeight': 1200, 'exportFilename': 'DSC01310', 'title': 'Artists at work'}\n",
      "{'id': '31414012', 'largeWidth': 800, 'largeHeight': 1200, 'exportFilename': 'DSC01346', 'title': 'Walking'}\n",
      "{'id': '31414137', 'largeWidth': 800, 'largeHeight': 1200, 'exportFilename': 'DSC01403', 'title': 'Pillars'}\n",
      "{'id': '31414176', 'largeWidth': 800, 'largeHeight': 1200, 'exportFilename': 'DSC01432', 'title': 'The red dot'}\n",
      "{'id': '32754773', 'largeWidth': 1200, 'largeHeight': 800, 'exportFilename': 'DSC01737', 'title': 'Check out that ballerina!'}\n",
      "{'id': '32754790', 'largeWidth': 800, 'largeHeight': 1200, 'exportFilename': 'DSC01754', 'title': 'Have a piece'}\n",
      "{'id': '33677779', 'largeWidth': 800, 'largeHeight': 1200, 'exportFilename': 'DSC02466', 'title': 'Bridges and those who do not need them, Düsseldorf, D'}\n",
      "{'id': '33678008', 'largeWidth': 1200, 'largeHeight': 800, 'exportFilename': 'DSC02695', 'title': 'Bridges and those who do not need them, Düsseldorf, D'}\n",
      "{'id': '33678041', 'largeWidth': 800, 'largeHeight': 1200, 'exportFilename': 'DSC02728', 'title': 'Just hanging'}\n",
      "{'id': '33678065', 'largeWidth': 800, 'largeHeight': 1200, 'exportFilename': 'DSC02752', 'title': 'Prisoners?'}\n",
      "image looks like this:\n",
      "{'id': '18272451', 'largeWidth': 800, 'largeHeight': 1200, 'exportFilename': 'DSC03031', 'title': 'Coffee break (London, UK)'}\n",
      "image looks like this:\n",
      "{'id': '18541469', 'largeWidth': 1200, 'largeHeight': 800, 'exportFilename': 'DSC04165', 'title': 'Cruising through destruction (Egypt)'}\n",
      "image looks like this:\n",
      "{'id': '18561870', 'largeWidth': 800, 'largeHeight': 1200, 'exportFilename': 'IMG_0403', 'title': 'Lock em up (Egypt)'}\n",
      "image looks like this:\n",
      "{'id': '18541708', 'largeWidth': 1200, 'largeHeight': 800, 'exportFilename': 'DSC04404', 'title': 'Open door policy (Egypt)'}\n",
      "image looks like this:\n",
      "{'id': '18603767', 'largeWidth': 800, 'largeHeight': 1200, 'exportFilename': 'IMG_0936-2', 'title': 'Coffee (Egypt)'}\n",
      "image looks like this:\n",
      "{'id': '18787653', 'largeWidth': 1200, 'largeHeight': 800, 'exportFilename': 'DSC05868', 'title': 'Walking the highway (Egypt)'}\n",
      "image looks like this:\n",
      "{'id': '20869300', 'largeWidth': 1200, 'largeHeight': 800, 'exportFilename': 'DSC06845', 'title': 'A lonely guy at a diner (Palo Alto, CA)'}\n",
      "image looks like this:\n",
      "{'id': '21160647', 'largeWidth': 1200, 'largeHeight': 800, 'exportFilename': 'DSC09218', 'title': 'Different angles (San Francisco, CA)'}\n",
      "image looks like this:\n",
      "{'id': '21160932', 'largeWidth': 1200, 'largeHeight': 800, 'exportFilename': 'DSC09503', 'title': 'Big and bigger (San Francisco, CA)'}\n",
      "image looks like this:\n",
      "{'id': '21192161', 'largeWidth': 800, 'largeHeight': 1200, 'exportFilename': 'DSC09987', 'title': ''}\n",
      "image looks like this:\n",
      "{'id': '21192228', 'largeWidth': 800, 'largeHeight': 1200, 'exportFilename': 'DSC00055', 'title': 'Catch and call (Florida Keys)'}\n",
      "image looks like this:\n",
      "{'id': '21192267', 'largeWidth': 1200, 'largeHeight': 801, 'exportFilename': 'DSC00094', 'title': 'Burning bridges (Florida Keys)'}\n",
      "image looks like this:\n",
      "{'id': '21192318', 'largeWidth': 800, 'largeHeight': 1200, 'exportFilename': 'DSC00145', 'title': 'The afterparty  (Florida Keys)'}\n",
      "image looks like this:\n",
      "{'id': '21192419', 'largeWidth': 800, 'largeHeight': 1200, 'exportFilename': 'DSC00246', 'title': 'Waiting (Marco Island, FL)'}\n",
      "image looks like this:\n",
      "{'id': '21466909', 'largeWidth': 1200, 'largeHeight': 800, 'exportFilename': 'DSC05142', 'title': 'Potatoes (Crete, GR)'}\n",
      "image looks like this:\n",
      "{'id': '21466949', 'largeWidth': 800, 'largeHeight': 1200, 'exportFilename': 'DSC05182', 'title': '(Crete, GR)'}\n",
      "image looks like this:\n",
      "{'id': '21467327', 'largeWidth': 1200, 'largeHeight': 800, 'exportFilename': 'DSC05567', 'title': 'Nature parking (Crete, GR)'}\n",
      "image looks like this:\n",
      "{'id': '23094041', 'largeWidth': 1200, 'largeHeight': 800, 'exportFilename': 'DSC01004', 'title': 'Resist and bite (Marco Island, FL)'}\n",
      "image looks like this:\n",
      "{'id': '23152107', 'largeWidth': 800, 'largeHeight': 1200, 'exportFilename': 'DSC08975', 'title': 'Conversations'}\n",
      "image looks like this:\n",
      "{'id': '23152316', 'largeWidth': 800, 'largeHeight': 1200, 'exportFilename': 'DSC09184', 'title': 'The surf (Naples, FL)'}\n",
      "image looks like this:\n",
      "{'id': '23152391', 'largeWidth': 800, 'largeHeight': 1200, 'exportFilename': 'DSC09259', 'title': 'Naples pier (Naples, FL)'}\n",
      "image looks like this:\n",
      "{'id': '23224134', 'largeWidth': 1200, 'largeHeight': 800, 'exportFilename': 'DSC02400', 'title': 'After the storm (Marco Island, FL)'}\n",
      "image looks like this:\n",
      "{'id': '23230291', 'largeWidth': 1200, 'largeHeight': 800, 'exportFilename': 'DSC02476', 'title': 'Want to fly (Marco Island, FL)'}\n",
      "image looks like this:\n",
      "{'id': '23234088', 'largeWidth': 1200, 'largeHeight': 800, 'exportFilename': 'DSC09854', 'title': 'Grace (Napels, FL)'}\n",
      "image looks like this:\n",
      "{'id': '23272821', 'largeWidth': 1200, 'largeHeight': 874, 'exportFilename': 'IMG_E5700', 'title': 'Takeoff (Marco Island, FL)'}\n",
      "image looks like this:\n",
      "{'id': '23540400', 'largeWidth': 800, 'largeHeight': 1200, 'exportFilename': 'DSC00680', 'title': 'Hanging in Amsterdam'}\n",
      "image looks like this:\n",
      "{'id': '23550461', 'largeWidth': 800, 'largeHeight': 1200, 'exportFilename': 'DSC00848', 'title': 'Rushing home (Amsterdam, NL)'}\n",
      "image looks like this:\n",
      "{'id': '23550489', 'largeWidth': 800, 'largeHeight': 1200, 'exportFilename': 'DSC00876', 'title': 'A throne without a party (Amsterdam, NL)'}\n",
      "image looks like this:\n",
      "{'id': '24007682', 'largeWidth': 800, 'largeHeight': 1200, 'exportFilename': 'DSC01208', 'title': ''}\n",
      "image looks like this:\n",
      "{'id': '25055061', 'largeWidth': 800, 'largeHeight': 1200, 'exportFilename': 'DSC01640', 'title': 'Zeche Zollverein (Duisburg, Germany)'}\n",
      "image looks like this:\n",
      "{'id': '26943833', 'largeWidth': 800, 'largeHeight': 1200, 'exportFilename': 'DSC04170', 'title': 'Do not tell anyone (Düsseldorf, D)'}\n",
      "image looks like this:\n",
      "{'id': '28965693', 'largeWidth': 900, 'largeHeight': 1200, 'exportFilename': 'IMG_1815', 'title': 'A Chinese lady rushing through the rain, Lingshui, CN'}\n",
      "image looks like this:\n",
      "{'id': '28838825', 'largeWidth': 799, 'largeHeight': 1200, 'exportFilename': 'DSC09015', 'title': 'Going to build something, Lingshui, CN'}\n",
      "image looks like this:\n",
      "{'id': '29996089', 'largeWidth': 1200, 'largeHeight': 800, 'exportFilename': 'DSC09992', 'title': ''}\n",
      "image looks like this:\n",
      "{'id': '29996145', 'largeWidth': 800, 'largeHeight': 1200, 'exportFilename': 'DSC00056', 'title': 'Blurry reflections'}\n",
      "image looks like this:\n",
      "{'id': '31049844', 'largeWidth': 1200, 'largeHeight': 800, 'exportFilename': 'DSC00202', 'title': 'The traveler, Essen Hbf, D'}\n",
      "image looks like this:\n",
      "{'id': '31413984', 'largeWidth': 800, 'largeHeight': 1200, 'exportFilename': 'DSC01310', 'title': 'Artists at work'}\n",
      "image looks like this:\n",
      "{'id': '31414012', 'largeWidth': 800, 'largeHeight': 1200, 'exportFilename': 'DSC01346', 'title': 'Walking'}\n",
      "image looks like this:\n",
      "{'id': '31414137', 'largeWidth': 800, 'largeHeight': 1200, 'exportFilename': 'DSC01403', 'title': 'Pillars'}\n",
      "image looks like this:\n",
      "{'id': '31414176', 'largeWidth': 800, 'largeHeight': 1200, 'exportFilename': 'DSC01432', 'title': 'The red dot'}\n",
      "image looks like this:\n",
      "{'id': '32754773', 'largeWidth': 1200, 'largeHeight': 800, 'exportFilename': 'DSC01737', 'title': 'Check out that ballerina!'}\n",
      "image looks like this:\n",
      "{'id': '32754790', 'largeWidth': 800, 'largeHeight': 1200, 'exportFilename': 'DSC01754', 'title': 'Have a piece'}\n",
      "image looks like this:\n",
      "{'id': '33677779', 'largeWidth': 800, 'largeHeight': 1200, 'exportFilename': 'DSC02466', 'title': 'Bridges and those who do not need them, Düsseldorf, D'}\n",
      "image looks like this:\n",
      "{'id': '33678008', 'largeWidth': 1200, 'largeHeight': 800, 'exportFilename': 'DSC02695', 'title': 'Bridges and those who do not need them, Düsseldorf, D'}\n",
      "image looks like this:\n",
      "{'id': '33678041', 'largeWidth': 800, 'largeHeight': 1200, 'exportFilename': 'DSC02728', 'title': 'Just hanging'}\n",
      "image looks like this:\n",
      "{'id': '33678065', 'largeWidth': 800, 'largeHeight': 1200, 'exportFilename': 'DSC02752', 'title': 'Prisoners?'}\n",
      "HTML page generated: streetLightboxAutoGen.html\n"
     ]
    }
   ],
   "execution_count": 12
  },
  {
   "metadata": {
    "ExecuteTime": {
     "end_time": "2025-01-08T20:58:41.255004Z",
     "start_time": "2025-01-08T20:58:41.253555Z"
    }
   },
   "cell_type": "code",
   "source": "",
   "id": "f47c9bdc3e569be3",
   "outputs": [],
   "execution_count": null
  },
  {
   "metadata": {
    "ExecuteTime": {
     "end_time": "2025-01-08T20:58:41.263194Z",
     "start_time": "2025-01-08T20:58:41.262048Z"
    }
   },
   "cell_type": "code",
   "source": "",
   "id": "2f1e3e53f2194abd",
   "outputs": [],
   "execution_count": null
  },
  {
   "metadata": {
    "ExecuteTime": {
     "end_time": "2025-01-08T20:58:41.269216Z",
     "start_time": "2025-01-08T20:58:41.267889Z"
    }
   },
   "cell_type": "code",
   "source": "",
   "id": "28c6aae113c2bdb4",
   "outputs": [],
   "execution_count": null
  },
  {
   "metadata": {
    "ExecuteTime": {
     "end_time": "2025-01-08T20:58:41.274526Z",
     "start_time": "2025-01-08T20:58:41.273230Z"
    }
   },
   "cell_type": "code",
   "source": "",
   "id": "3d4c9828480efcd3",
   "outputs": [],
   "execution_count": null
  },
  {
   "metadata": {
    "ExecuteTime": {
     "end_time": "2025-01-08T20:58:41.288343Z",
     "start_time": "2025-01-08T20:58:41.286851Z"
    }
   },
   "cell_type": "code",
   "source": "",
   "id": "d0e05d61f0789e5b",
   "outputs": [],
   "execution_count": null
  }
 ],
 "metadata": {
  "kernelspec": {
   "display_name": "Python 3",
   "language": "python",
   "name": "python3"
  },
  "language_info": {
   "codemirror_mode": {
    "name": "ipython",
    "version": 2
   },
   "file_extension": ".py",
   "mimetype": "text/x-python",
   "name": "python",
   "nbconvert_exporter": "python",
   "pygments_lexer": "ipython2",
   "version": "2.7.6"
  }
 },
 "nbformat": 4,
 "nbformat_minor": 5
}
