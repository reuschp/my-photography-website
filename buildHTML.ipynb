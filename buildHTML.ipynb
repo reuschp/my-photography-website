{
 "cells": [
  {
   "cell_type": "code",
   "id": "initial_id",
   "metadata": {
    "collapsed": true,
    "jupyter": {
     "is_executing": true
    }
   },
   "source": [
    "from PIL import Image\n",
    "from PIL.ExifTags import TAGS, GPSTAGS\n",
    "import os\n",
    "\n",
    "def extract_exif_data(image_path):\n",
    "    \"\"\"\n",
    "    Extracts title and capture year from the EXIF data of an image.\n",
    "    \"\"\"\n",
    "    try:\n",
    "        # Open image and extract EXIF data\n",
    "        image = Image.open(image_path)\n",
    "        exif_data = image._getexif()\n",
    "\n",
    "        if not exif_data:\n",
    "            print(f\"No EXIF data found for {image_path}\")\n",
    "            return None, None\n",
    "\n",
    "        # Map EXIF tags to human-readable names\n",
    "        exif = {TAGS.get(tag, tag): value for tag, value in exif_data.items()}\n",
    "\n",
    "        # Extract title and capture year\n",
    "        title = exif.get('ImageDescription', 'No Title')\n",
    "        capture_date = exif.get('DateTimeOriginal', None)\n",
    "\n",
    "        if capture_date:\n",
    "            capture_year = capture_date.split(':')[0]\n",
    "        else:\n",
    "            capture_year = 'Unknown Year'\n",
    "\n",
    "        return title, capture_year\n",
    "    except Exception as e:\n",
    "        print(f\"Error reading EXIF data from {image_path}: {e}\")\n",
    "        return None, None\n",
    "\n",
    "\n",
    "def iterate_images(directory):\n",
    "    \"\"\"\n",
    "    Iterates through all image files in a directory and extracts title and capture year.\n",
    "    \"\"\"\n",
    "    supported_extensions = ['.jpg', '.jpeg', '.png', '.tif', '.tiff']\n",
    "    results = []\n",
    "\n",
    "    for root, _, files in os.walk(directory):\n",
    "        for file in files:\n",
    "            if file.lower().endswith(tuple(supported_extensions)):\n",
    "                image_path = os.path.join(root, file)\n",
    "                title, year = extract_exif_data(image_path)\n",
    "                results.append((file, title, year))\n",
    "\n",
    "    return results\n",
    "\n",
    "\n",
    "def main():\n",
    "    # Replace this with the path to your exported Lightroom collection\n",
    "    directory = \"/Users/reusch/Documents/GitHub/my-photography-website/street-track/images/large\"\n",
    "\n",
    "    if not os.path.isdir(directory):\n",
    "        print(f\"The path {directory} does not exist or is not a directory.\")\n",
    "        return\n",
    "\n",
    "    results = iterate_images(directory)\n",
    "\n",
    "    print(\"\\nExtracted EXIF Data:\")\n",
    "    for file_name, title, year in results:\n",
    "        print(f\"File: {file_name}, Title: {title}, Year: {year}\")\n",
    "\n",
    "\n",
    "if __name__ == \"__main__\":\n",
    "    main()\n"
   ],
   "outputs": [],
   "execution_count": null
  },
  {
   "metadata": {},
   "cell_type": "code",
   "outputs": [],
   "execution_count": null,
   "source": "",
   "id": "578acf3dad3c31c5"
  },
  {
   "metadata": {},
   "cell_type": "code",
   "outputs": [],
   "execution_count": null,
   "source": "",
   "id": "4d4baeb670fe302e"
  }
 ],
 "metadata": {
  "kernelspec": {
   "display_name": "Python 3",
   "language": "python",
   "name": "python3"
  },
  "language_info": {
   "codemirror_mode": {
    "name": "ipython",
    "version": 2
   },
   "file_extension": ".py",
   "mimetype": "text/x-python",
   "name": "python",
   "nbconvert_exporter": "python",
   "pygments_lexer": "ipython2",
   "version": "2.7.6"
  }
 },
 "nbformat": 4,
 "nbformat_minor": 5
}
